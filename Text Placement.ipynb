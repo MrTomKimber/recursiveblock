{
 "cells": [
  {
   "cell_type": "code",
   "execution_count": 1,
   "metadata": {},
   "outputs": [],
   "source": [
    "from IPython.core.display import HTML\n",
    "from PIL import Image, ImageDraw, ImageFont\n",
    "from math import sqrt\n"
   ]
  },
  {
   "cell_type": "code",
   "execution_count": 2,
   "metadata": {},
   "outputs": [],
   "source": [
    "arial='/Library/Fonts/Arial.ttf'"
   ]
  },
  {
   "cell_type": "code",
   "execution_count": 29,
   "metadata": {},
   "outputs": [],
   "source": [
    "def svg_viewbox(window_x, window_y, window_w, window_h, screen_w, screen_h, content=\"\"):\n",
    "    return f\"\"\"<svg xmlns=\"http://www.w3.org/2000/svg\" viewBox=\"{window_x}\" {window_y} {window_w}\" width=\"{screen_w}\" height=\"{screen_h}\" > {content} </svg>\"\"\"\n",
    "\n",
    "def svg_rect(x,y,w,h, content=\"\"):\n",
    "    return f\"\"\" x=\"{x}\" y=\"{y} width=\"{w}\" height=\"{h}\" stroke=\"black\" stroke-width=\"1\" fill=\"white\" opacity=\"0.25\"> {content} </rect>\"\"\"\n",
    "\n",
    "def panel_outline(x,y,w,h,r,th):\n",
    "    title_path = f\"M {x} {y+(th)} L {x} {y+r} Q {x} {y} {x+r} {y} L {x+w-r} {y} Q {x+w} {y} {x+w} {y+r} L {w+x} {y+th} Z\"\n",
    "    canvas_path = f\"M {x+w} {y+th} L {x+w} {y+h-r} Q {x+w} {y+h} {x+w-r} {y+h} L {x+r} {y+h} Q {x} {y+h} {x} {y+h-r} L {x} {y+th} Z\"\n",
    "    return f\"\"\"<path d=\"{title_path}\" stroke=\"black\" stroke-width=\"1\" fill=\"pink\" opacity=\"0.20\" />\"\"\" + \\\n",
    "           f\"\"\"<path d=\"{canvas_path}\" stroke=\"black\" stroke-width=\"1\" fill=\"pink\" opacity=\"0.20\" />\"\"\"\n",
    "\n",
    "def titled_panel(x,y,w,h,r,th,text,oversize_method=\"truncate\"):\n",
    "    cpath = panel_outline(x,y,w,h,r,th)\n",
    "    title_rect = (x+r, y+(r/2), w-(2*r), th-r)\n",
    "    t_box = text_rectangle(text, title_rect, oversize_method)\n",
    "    return cpath + t_box\n",
    "\n",
    "def graphicaltextsize(text, fontsize=14):\n",
    "    image = Image.new(\"RGB\", (20,20))\n",
    "    draw = ImageDraw.Draw(image)\n",
    "    font = ImageFont.truetype(arial, fontsize)\n",
    "    bbox = draw.textbbox((0,0), text, font)\n",
    "    return (bbox[2], bbox[3])\n",
    "\n",
    "def fontmetrics(text, fontsize=14):\n",
    "    font = ImageFont.truetype(arial, fontsize)\n",
    "    ascent, descent = font.getmetrics()\n",
    "    (width, baseline), (offset_x, offset_y) = font.font.getsize(text)\n",
    "    return width, ascent + descent - offset_y, baseline\n",
    "\n",
    "def text_rectangle(text, rectangle, oversize_method=\"truncate\"):\n",
    "    fontsize = 32\n",
    "    x,y,w,h = rectangle\n",
    "    ptext,ph = prepare_text(text, (w*1.6, h), oversize_method)\n",
    "    refbb = graphicaltextsize(ptext, fontsize)\n",
    "    fw,fh,fb = fontmetrics(ptext, fontsize)\n",
    "    rw, rh = refbb\n",
    "    scale_x, scale_y = w/rw, h/rh\n",
    "    loc_y = (fb * scale_y)\n",
    "    morph = scale_x/scale_y\n",
    "    if morph > 2:\n",
    "        scale_x = scale_x / morph\n",
    "    \n",
    "    stext = ptext.split(\"\\n\")\n",
    "    l_height = rh/len(stext)\n",
    "    spans = [f\"\"\"<tspan x=\"0\" y=\"%%yoffset%%\" >{s} </tspan> \\n\"\"\" for e,s in enumerate(stext)]\n",
    "    offsets=[]\n",
    "    for e,l in enumerate(stext):\n",
    "        offsets.append((0, e * l_height))\n",
    "    spans = [l.replace(\"%%yoffset%%\", str(offsets[e][1])) for e,l in enumerate(spans)]\n",
    "    return f\"\"\"<g transform=\"matrix({scale_x} 0 0 {scale_y} {x} {y+loc_y})\" ><text x=\"{0}\" y=\"{0}\" style=\"font-size:{fontsize};\"><title>{text}</title>{\"\".join(spans)}</text>\\n</g>\"\"\"\n"
   ]
  },
  {
   "cell_type": "code",
   "execution_count": 30,
   "metadata": {},
   "outputs": [],
   "source": [
    "\n",
    "\n",
    "def scorechar(c, loc, target, bchars):\n",
    "    score=0\n",
    "    adj=1/target\n",
    "    neg=0\n",
    "    if c in bchars:\n",
    "        if loc>target:\n",
    "            neg=((loc-target)**3)\n",
    "        score = 1 / ((( loc-target) **2 ) + 1 + neg)\n",
    "    else:\n",
    "        score = 1 / ((( loc-target) **2 ) + 1) *(adj**2)\n",
    "    return score\n",
    "\n",
    "def word_wrap(text, target_length):\n",
    "    linespace = 1.2\n",
    "    breakchars = \" ,.-\"\n",
    "    delchars = \"\\n\\t\"\n",
    "    for c in delchars:\n",
    "        text = text.replace(c,\" \")\n",
    "    best_split = 0\n",
    "    texts = []\n",
    "    finished=False\n",
    "    stext = \"\".join([t for t in text])\n",
    "    while not finished and len(stext)!=0:\n",
    "        osp = [scorechar(c,e,target_length, breakchars) for e,c in enumerate(stext)]\n",
    "        best_split = osp.index(max(osp))\n",
    "        \n",
    "        if len(stext)==0 or best_split==0 or (target_length*linespace)>=len(stext):\n",
    "            texts.append(stext)\n",
    "            finished=True\n",
    "        else:\n",
    "            texts.append(stext[:best_split+1])\n",
    "        stext = stext[best_split+1:]\n",
    "    return texts\n",
    "\n",
    "def prepare_text(text, bounding_box, oversize_method=\"wrap\"):\n",
    "    \n",
    "    linespace=1.2\n",
    "    tw, th, tb = fontmetrics(text)\n",
    "    th = th*linespace\n",
    "    tar = tw/th\n",
    "    bw, bh = bounding_box\n",
    "    bar = bw/bh\n",
    "    aspect = tar/bar\n",
    "    cw = len(text)\n",
    "    text_height = 1\n",
    "    if aspect > 1.2:\n",
    "        if oversize_method.lower()==\"wrap\":\n",
    "            wt = int(cw/sqrt(tar/bar))\n",
    "            ww = word_wrap(text, wt)\n",
    "            return \"\\n\".join(ww), (bh/len(ww))/linespace\n",
    "        elif oversize_method.lower()==\"truncate\":\n",
    "            return text[:int(cw*(bw/tw))-3]+\"...\", bh\n",
    "    elif aspect < 0.8:\n",
    "        return text, bw/tar\n",
    "    else:\n",
    "        return text, bw/tar\n",
    "    \n",
    "    \n",
    "        "
   ]
  },
  {
   "cell_type": "code",
   "execution_count": 31,
   "metadata": {},
   "outputs": [],
   "source": [
    "# Example operation:\n",
    "tl = [\n",
    "    \"test\", \n",
    "    \"another test\", \"\"\"Chancellor's return 'quite unusual' and 'not a good sign' - Tory peer\n",
    "We're all poised for Chancellor Kwasi Kwarteng's plane to land any moment after he cut short his trip to Washington where he was meeting other finance ministers.\n",
    "\n",
    "Earlier this morning, Conservative Peer Lord Vaizey described Kwarteng ending his trip a day early as \"quite unusual\".\n",
    "\n",
    "\"It's not a good sign, it does not look like the government is in control\", he told Sky News.\n",
    "\n",
    "But he dismissed suggestions of another Conservative leadership change, saying the party would not be able to stand it. He also said he had not heard about the reported plot taking place to remove Truss and replace her with Rishi Sunak and Penny Mordaunt.\n",
    "\n",
    "Lord Vaizey added that the mood in the party was \"relatively bleak, in the sense that this is a self-inflicted wound\".\"\"\"\n",
    "]"
   ]
  },
  {
   "cell_type": "code",
   "execution_count": 33,
   "metadata": {},
   "outputs": [
    {
     "data": {
      "text/html": [
       "<svg xmlns=\"http://www.w3.org/2000/svg\" viewBox=\"-20\" -20 600\" width=\"600\" height=\"300\" > <path d=\"M 0.0 25.0 L 0.0 5.0 Q 0.0 0.0 5.0 0.0 L 115.0 0.0 Q 120.0 0.0 120.0 5.0 L 120.0 25.0 Z\" stroke=\"black\" stroke-width=\"1\" fill=\"pink\" opacity=\"0.20\" /><path d=\"M 120.0 25.0 L 120.0 65.0 Q 120.0 70.0 115.0 70.0 L 5.0 70.0 Q 0.0 70.0 0.0 65.0 L 0.0 25.0 Z\" stroke=\"black\" stroke-width=\"1\" fill=\"pink\" opacity=\"0.20\" /><g transform=\"matrix(0.7931034482758621 0 0 0.7931034482758621 0.0 138.24137931034483)\" ><text x=\"0\" y=\"0\" style=\"font-size:32;\"><title>test</title><tspan x=\"0\" y=\"0.0\" >test </tspan> \n",
       "</text>\n",
       "</g>\n",
       "<g transform=\"matrix(0.7931034482758621 0 0 0.7931034482758621 0.0 138.24137931034483)\" ><text x=\"0\" y=\"0\" style=\"font-size:32;\"><title>test</title><tspan x=\"0\" y=\"0.0\" >test </tspan> \n",
       "</text>\n",
       "</g>\n",
       "<path d=\"M 200.0 25.0 L 200.0 5.0 Q 200.0 0.0 205.0 0.0 L 315.0 0.0 Q 320.0 0.0 320.0 5.0 L 320.0 25.0 Z\" stroke=\"black\" stroke-width=\"1\" fill=\"pink\" opacity=\"0.20\" /><path d=\"M 320.0 25.0 L 320.0 65.0 Q 320.0 70.0 315.0 70.0 L 205.0 70.0 Q 200.0 70.0 200.0 65.0 L 200.0 25.0 Z\" stroke=\"black\" stroke-width=\"1\" fill=\"pink\" opacity=\"0.20\" /><g transform=\"matrix(0.6432748538011696 0 0 0.7931034482758621 200.0 138.24137931034483)\" ><text x=\"0\" y=\"0\" style=\"font-size:32;\"><title>another test</title><tspan x=\"0\" y=\"0.0\" >another test </tspan> \n",
       "</text>\n",
       "</g>\n",
       "<g transform=\"matrix(0.6432748538011696 0 0 0.7931034482758621 200.0 138.24137931034483)\" ><text x=\"0\" y=\"0\" style=\"font-size:32;\"><title>another test</title><tspan x=\"0\" y=\"0.0\" >another test </tspan> \n",
       "</text>\n",
       "</g>\n",
       "<path d=\"M 400.0 25.0 L 400.0 5.0 Q 400.0 0.0 405.0 0.0 L 515.0 0.0 Q 520.0 0.0 520.0 5.0 L 520.0 25.0 Z\" stroke=\"black\" stroke-width=\"1\" fill=\"pink\" opacity=\"0.20\" /><path d=\"M 520.0 25.0 L 520.0 65.0 Q 520.0 70.0 515.0 70.0 L 405.0 70.0 Q 400.0 70.0 400.0 65.0 L 400.0 25.0 Z\" stroke=\"black\" stroke-width=\"1\" fill=\"pink\" opacity=\"0.20\" /><g transform=\"matrix(0.05847953216374269 0 0 0.09913793103448276 400.0 122.875)\" ><text x=\"0\" y=\"0\" style=\"font-size:32;\"><title>Chancellor's return 'quite unusual' and 'not a good sign' - Tory peer\n",
       "We're all poised for Chancellor Kwasi Kwarteng's plane to land any moment after he cut short his trip to Washington where he was meeting other finance ministers.\n",
       "\n",
       "Earlier this morning, Conservative Peer Lord Vaizey described Kwarteng ending his trip a day early as \"quite unusual\".\n",
       "\n",
       "\"It's not a good sign, it does not look like the government is in control\", he told Sky News.\n",
       "\n",
       "But he dismissed suggestions of another Conservative leadership change, saying the party would not be able to stand it. He also said he had not heard about the reported plot taking place to remove Truss and replace her with Rishi Sunak and Penny Mordaunt.\n",
       "\n",
       "Lord Vaizey added that the mood in the party was \"relatively bleak, in the sense that this is a self-inflicted wound\".</title><tspan x=\"0\" y=\"0.0\" >Chancellor's return 'quite unusual' and 'not a good sign' - Tory peer We're all poised for Chancellor Kwasi Kwarteng's plane to  </tspan> \n",
       "<tspan x=\"0\" y=\"33.142857142857146\" >land any moment after he cut short his trip to Washington where he was meeting other finance ministers.  Earlier this morning,  </tspan> \n",
       "<tspan x=\"0\" y=\"66.28571428571429\" >Conservative Peer Lord Vaizey described Kwarteng ending his trip a day early as \"quite unusual\".  \"It's not a good sign, it does  </tspan> \n",
       "<tspan x=\"0\" y=\"99.42857142857144\" >not look like the government is in control\", he told Sky News.  But he dismissed suggestions of another Conservative leadership  </tspan> \n",
       "<tspan x=\"0\" y=\"132.57142857142858\" >change, saying the party would not be able to stand it. He also said he had not heard about the reported plot taking place to  </tspan> \n",
       "<tspan x=\"0\" y=\"165.71428571428572\" >remove Truss and replace her with Rishi Sunak and Penny Mordaunt.  Lord Vaizey added that the mood in the party was \"relatively  </tspan> \n",
       "<tspan x=\"0\" y=\"198.8571428571429\" >bleak, in the sense that this is a self-inflicted wound\". </tspan> \n",
       "</text>\n",
       "</g>\n",
       "<g transform=\"matrix(0.30985915492957744 0 0 0.6571428571428571 400.0 139.05714285714285)\" ><text x=\"0\" y=\"0\" style=\"font-size:32;\"><title>Chancellor's return 'quite unusual' and 'not a good sign' - Tory peer\n",
       "We're all poised for Chancellor Kwasi Kwarteng's plane to land any moment after he cut short his trip to Washington where he was meeting other finance ministers.\n",
       "\n",
       "Earlier this morning, Conservative Peer Lord Vaizey described Kwarteng ending his trip a day early as \"quite unusual\".\n",
       "\n",
       "\"It's not a good sign, it does not look like the government is in control\", he told Sky News.\n",
       "\n",
       "But he dismissed suggestions of another Conservative leadership change, saying the party would not be able to stand it. He also said he had not heard about the reported plot taking place to remove Truss and replace her with Rishi Sunak and Penny Mordaunt.\n",
       "\n",
       "Lord Vaizey added that the mood in the party was \"relatively bleak, in the sense that this is a self-inflicted wound\".</title><tspan x=\"0\" y=\"0.0\" >Chancellor's return 'qui... </tspan> \n",
       "</text>\n",
       "</g>\n",
       " </svg>"
      ],
      "text/plain": [
       "<IPython.core.display.HTML object>"
      ]
     },
     "execution_count": 33,
     "metadata": {},
     "output_type": "execute_result"
    }
   ],
   "source": [
    "w,h = 120,25\n",
    "xx,yy = 600,300\n",
    "rects = []\n",
    "for e,t in enumerate(tl):\n",
    "    x = (e%3)*(xx/3)\n",
    "    y = (e//3) * (yy/3)\n",
    "    rects.append(panel_outline(x,y,w,70,5,25))\n",
    "    rects.append(text_rectangle(t, (x, y+w, w-10, h-2), oversize_method=\"wrap\")+\"\\n\")\n",
    "    rects.append(text_rectangle(t, (x, y+w, w-10, h-2), oversize_method=\"truncate\")+\"\\n\")\n",
    "svg_objects = \"\".join(rects)\n",
    "content = svg_objects\n",
    "HTML(svg_viewbox(-20,-20,600,300,600,300, content))"
   ]
  },
  {
   "cell_type": "code",
   "execution_count": 27,
   "metadata": {},
   "outputs": [
    {
     "data": {
      "text/plain": [
       "'<path d=\"M 0.0 25.0 L 0.0 5.0 Q 0.0 0.0 5.0 0.0 L 115.0 0.0 Q 120.0 0.0 120.0 5.0 L 120.0 25.0 Z\" stroke=\"black\" stroke-width=\"1\" fill=\"pink\" opacity=\"0.20\" /><path d=\"M 120.0 25.0 L 120.0 65.0 Q 120.0 70.0 115.0 70.0 L 5.0 70.0 Q 0.0 70.0 0.0 65.0 L 0.0 25.0 Z\" stroke=\"black\" stroke-width=\"1\" fill=\"pink\" opacity=\"0.20\" /><g transform=\"matrix(0.7931034482758621 0 0 0.7931034482758621 5.0 138.24137931034483)\" ><text x=\"0\" y=\"0\" style=\"font-size:32;\"><title>test</title><tspan x=\"0\" y=\"0.0\" >test </tspan> \\n</text>\\n</g>\\n<path d=\"M 200.0 25.0 L 200.0 5.0 Q 200.0 0.0 205.0 0.0 L 315.0 0.0 Q 320.0 0.0 320.0 5.0 L 320.0 25.0 Z\" stroke=\"black\" stroke-width=\"1\" fill=\"pink\" opacity=\"0.20\" /><path d=\"M 320.0 25.0 L 320.0 65.0 Q 320.0 70.0 315.0 70.0 L 205.0 70.0 Q 200.0 70.0 200.0 65.0 L 200.0 25.0 Z\" stroke=\"black\" stroke-width=\"1\" fill=\"pink\" opacity=\"0.20\" /><g transform=\"matrix(0.6432748538011696 0 0 0.7931034482758621 205.0 138.24137931034483)\" ><text x=\"0\" y=\"0\" style=\"font-size:32;\"><title>another test</title><tspan x=\"0\" y=\"0.0\" >another test </tspan> \\n</text>\\n</g>\\n<path d=\"M 400.0 25.0 L 400.0 5.0 Q 400.0 0.0 405.0 0.0 L 515.0 0.0 Q 520.0 0.0 520.0 5.0 L 520.0 25.0 Z\" stroke=\"black\" stroke-width=\"1\" fill=\"pink\" opacity=\"0.20\" /><path d=\"M 520.0 25.0 L 520.0 65.0 Q 520.0 70.0 515.0 70.0 L 405.0 70.0 Q 400.0 70.0 400.0 65.0 L 400.0 25.0 Z\" stroke=\"black\" stroke-width=\"1\" fill=\"pink\" opacity=\"0.20\" /><g transform=\"matrix(0.05847953216374269 0 0 0.09913793103448276 405.0 122.875)\" ><text x=\"0\" y=\"0\" style=\"font-size:32;\"><title>Chancellor\\'s return \\'quite unusual\\' and \\'not a good sign\\' - Tory peer\\nWe\\'re all poised for Chancellor Kwasi Kwarteng\\'s plane to land any moment after he cut short his trip to Washington where he was meeting other finance ministers.\\n\\nEarlier this morning, Conservative Peer Lord Vaizey described Kwarteng ending his trip a day early as \"quite unusual\".\\n\\n\"It\\'s not a good sign, it does not look like the government is in control\", he told Sky News.\\n\\nBut he dismissed suggestions of another Conservative leadership change, saying the party would not be able to stand it. He also said he had not heard about the reported plot taking place to remove Truss and replace her with Rishi Sunak and Penny Mordaunt.\\n\\nLord Vaizey added that the mood in the party was \"relatively bleak, in the sense that this is a self-inflicted wound\".</title><tspan x=\"0\" y=\"0.0\" >Chancellor\\'s return \\'quite unusual\\' and \\'not a good sign\\' - Tory peer We\\'re all poised for Chancellor Kwasi Kwarteng\\'s plane to  </tspan> \\n<tspan x=\"0\" y=\"33.142857142857146\" >land any moment after he cut short his trip to Washington where he was meeting other finance ministers.  Earlier this morning,  </tspan> \\n<tspan x=\"0\" y=\"66.28571428571429\" >Conservative Peer Lord Vaizey described Kwarteng ending his trip a day early as \"quite unusual\".  \"It\\'s not a good sign, it does  </tspan> \\n<tspan x=\"0\" y=\"99.42857142857144\" >not look like the government is in control\", he told Sky News.  But he dismissed suggestions of another Conservative leadership  </tspan> \\n<tspan x=\"0\" y=\"132.57142857142858\" >change, saying the party would not be able to stand it. He also said he had not heard about the reported plot taking place to  </tspan> \\n<tspan x=\"0\" y=\"165.71428571428572\" >remove Truss and replace her with Rishi Sunak and Penny Mordaunt.  Lord Vaizey added that the mood in the party was \"relatively  </tspan> \\n<tspan x=\"0\" y=\"198.8571428571429\" >bleak, in the sense that this is a self-inflicted wound\". </tspan> \\n</text>\\n</g>\\n'"
      ]
     },
     "execution_count": 27,
     "metadata": {},
     "output_type": "execute_result"
    }
   ],
   "source": [
    "content"
   ]
  },
  {
   "cell_type": "code",
   "execution_count": null,
   "metadata": {},
   "outputs": [],
   "source": []
  }
 ],
 "metadata": {
  "kernelspec": {
   "display_name": "Python 3",
   "language": "python",
   "name": "python3"
  },
  "language_info": {
   "codemirror_mode": {
    "name": "ipython",
    "version": 3
   },
   "file_extension": ".py",
   "mimetype": "text/x-python",
   "name": "python",
   "nbconvert_exporter": "python",
   "pygments_lexer": "ipython3",
   "version": "3.6.7"
  }
 },
 "nbformat": 4,
 "nbformat_minor": 2
}
